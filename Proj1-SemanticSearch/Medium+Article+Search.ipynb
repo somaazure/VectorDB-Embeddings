{
 "cells": [
  {
   "cell_type": "markdown",
   "id": "88f36011",
   "metadata": {},
   "source": [
    "# Medium Article Semantic Search by Title+Subtitle"
   ]
  },
  {
   "cell_type": "markdown",
   "id": "4edfecf5",
   "metadata": {},
   "source": [
    "### Load Data"
   ]
  },
  {
   "cell_type": "code",
   "execution_count": 1,
   "id": "9a0599fd",
   "metadata": {},
   "outputs": [],
   "source": [
    "import pandas as pd"
   ]
  },
  {
   "cell_type": "code",
   "execution_count": null,
   "id": "0dea2982",
   "metadata": {},
   "outputs": [],
   "source": [
    "df = pd.read_csv(\"medium_post_titles.csv\", nrows=10000)\n",
    "# data source: https://www.kaggle.com/datasets/nulldata/medium-post-titles"
   ]
  },
  {
   "cell_type": "code",
   "execution_count": 3,
   "id": "f4ce972b",
   "metadata": {},
   "outputs": [
    {
     "data": {
      "text/plain": [
       "subtitle_truncated_flag\n",
       "False    6318\n",
       "True     3682\n",
       "Name: count, dtype: int64"
      ]
     },
     "execution_count": 3,
     "metadata": {},
     "output_type": "execute_result"
    }
   ],
   "source": [
    "df[\"subtitle_truncated_flag\"].value_counts()"
   ]
  },
  {
   "cell_type": "markdown",
   "id": "58e061d3",
   "metadata": {},
   "source": [
    "### Data Cleanup"
   ]
  },
  {
   "cell_type": "code",
   "execution_count": 4,
   "id": "df9c3374",
   "metadata": {},
   "outputs": [],
   "source": [
    "# df.isna().sum()\n",
    "\n",
    "df = df.dropna()\n",
    "df = df[~df[\"subtitle_truncated_flag\"]]\n",
    "# df[\"subtitle_truncated_flag\"].value_counts()\n",
    "\n",
    "df['title_extended'] = df['title'] + df['subtitle']"
   ]
  },
  {
   "cell_type": "markdown",
   "id": "44a88b1c",
   "metadata": {},
   "source": [
    "### Prep for Upsert"
   ]
  },
  {
   "cell_type": "code",
   "execution_count": 5,
   "id": "0871e785",
   "metadata": {},
   "outputs": [
    {
     "name": "stderr",
     "output_type": "stream",
     "text": [
      "C:\\Users\\somashekar.inguva\\AppData\\Local\\Temp\\ipykernel_41424\\2005254972.py:4: TqdmExperimentalWarning: Using `tqdm.autonotebook.tqdm` in notebook mode. Use `tqdm.tqdm` instead to force console mode (e.g. in jupyter console)\n",
      "  from tqdm.autonotebook import tqdm\n"
     ]
    }
   ],
   "source": [
    "import os\n",
    "\n",
    "from dotenv import load_dotenv\n",
    "from tqdm.autonotebook import tqdm\n",
    "from pinecone import Pinecone, ServerlessSpec \n",
    "load_dotenv()\n",
    "openai_key = os.getenv(\"OPENAI_API_KEY\")\n",
    "\n",
    "pinecone_key = os.getenv(\"PINCONE_API_KEY\")"
   ]
  },
  {
   "cell_type": "code",
   "execution_count": null,
   "id": "76f0793e",
   "metadata": {},
   "outputs": [],
   "source": [
    "# from pinecone import Pinecone, ServerlessSpec\n",
    "pc = Pinecone(api_key = pinecone_key)"
   ]
  },
  {
   "cell_type": "code",
   "execution_count": 8,
   "id": "f8526bd5",
   "metadata": {},
   "outputs": [
    {
     "data": {
      "text/html": [
       "<div>\n",
       "<style scoped>\n",
       "    .dataframe tbody tr th:only-of-type {\n",
       "        vertical-align: middle;\n",
       "    }\n",
       "\n",
       "    .dataframe tbody tr th {\n",
       "        vertical-align: top;\n",
       "    }\n",
       "\n",
       "    .dataframe thead th {\n",
       "        text-align: right;\n",
       "    }\n",
       "</style>\n",
       "<table border=\"1\" class=\"dataframe\">\n",
       "  <thead>\n",
       "    <tr style=\"text-align: right;\">\n",
       "      <th></th>\n",
       "      <th>category</th>\n",
       "      <th>title</th>\n",
       "      <th>subtitle</th>\n",
       "      <th>subtitle_truncated_flag</th>\n",
       "      <th>title_extended</th>\n",
       "    </tr>\n",
       "  </thead>\n",
       "  <tbody>\n",
       "    <tr>\n",
       "      <th>0</th>\n",
       "      <td>work</td>\n",
       "      <td>\"21 Conversations\" - A fun (and easy) game for...</td>\n",
       "      <td>A (new?) Icebreaker game to get your team to s...</td>\n",
       "      <td>False</td>\n",
       "      <td>\"21 Conversations\" - A fun (and easy) game for...</td>\n",
       "    </tr>\n",
       "    <tr>\n",
       "      <th>1</th>\n",
       "      <td>spirituality</td>\n",
       "      <td>\"Biblical Porn\" at Mars Hill</td>\n",
       "      <td>Author and UW lecturer Jessica Johnson talks a...</td>\n",
       "      <td>False</td>\n",
       "      <td>\"Biblical Porn\" at Mars HillAuthor and UW lect...</td>\n",
       "    </tr>\n",
       "    <tr>\n",
       "      <th>2</th>\n",
       "      <td>lgbtqia</td>\n",
       "      <td>\"CISGENDER?! Is That A Disease?!\"</td>\n",
       "      <td>Or, a primer in gender vocabulary for the curi...</td>\n",
       "      <td>False</td>\n",
       "      <td>\"CISGENDER?! Is That A Disease?!\"Or, a primer ...</td>\n",
       "    </tr>\n",
       "    <tr>\n",
       "      <th>4</th>\n",
       "      <td>artificial-intelligence</td>\n",
       "      <td>\"Can I Train my Model on Your Computer?\"</td>\n",
       "      <td>How we waste computational resources and how t...</td>\n",
       "      <td>False</td>\n",
       "      <td>\"Can I Train my Model on Your Computer?\"How we...</td>\n",
       "    </tr>\n",
       "    <tr>\n",
       "      <th>5</th>\n",
       "      <td>cryptocurrency</td>\n",
       "      <td>\"Cypherpunks and Wall Street\": The Security To...</td>\n",
       "      <td>Bruce Fenton presents at the World Blockchain ...</td>\n",
       "      <td>False</td>\n",
       "      <td>\"Cypherpunks and Wall Street\": The Security To...</td>\n",
       "    </tr>\n",
       "  </tbody>\n",
       "</table>\n",
       "</div>"
      ],
      "text/plain": [
       "                  category                                              title  \\\n",
       "0                     work  \"21 Conversations\" - A fun (and easy) game for...   \n",
       "1             spirituality                       \"Biblical Porn\" at Mars Hill   \n",
       "2                  lgbtqia                  \"CISGENDER?! Is That A Disease?!\"   \n",
       "4  artificial-intelligence           \"Can I Train my Model on Your Computer?\"   \n",
       "5           cryptocurrency  \"Cypherpunks and Wall Street\": The Security To...   \n",
       "\n",
       "                                            subtitle  subtitle_truncated_flag  \\\n",
       "0  A (new?) Icebreaker game to get your team to s...                    False   \n",
       "1  Author and UW lecturer Jessica Johnson talks a...                    False   \n",
       "2  Or, a primer in gender vocabulary for the curi...                    False   \n",
       "4  How we waste computational resources and how t...                    False   \n",
       "5  Bruce Fenton presents at the World Blockchain ...                    False   \n",
       "\n",
       "                                      title_extended  \n",
       "0  \"21 Conversations\" - A fun (and easy) game for...  \n",
       "1  \"Biblical Porn\" at Mars HillAuthor and UW lect...  \n",
       "2  \"CISGENDER?! Is That A Disease?!\"Or, a primer ...  \n",
       "4  \"Can I Train my Model on Your Computer?\"How we...  \n",
       "5  \"Cypherpunks and Wall Street\": The Security To...  "
      ]
     },
     "execution_count": 8,
     "metadata": {},
     "output_type": "execute_result"
    }
   ],
   "source": [
    "df.head()"
   ]
  },
  {
   "cell_type": "code",
   "execution_count": 9,
   "id": "2976d1d4-b792-4573-b705-27d59013815b",
   "metadata": {},
   "outputs": [
    {
     "data": {
      "text/plain": [
       "{\n",
       "    \"name\": \"medium-data\",\n",
       "    \"metric\": \"cosine\",\n",
       "    \"host\": \"medium-data-rcv72uk.svc.aped-4627-b74a.pinecone.io\",\n",
       "    \"spec\": {\n",
       "        \"serverless\": {\n",
       "            \"cloud\": \"aws\",\n",
       "            \"region\": \"us-east-1\"\n",
       "        }\n",
       "    },\n",
       "    \"status\": {\n",
       "        \"ready\": true,\n",
       "        \"state\": \"Ready\"\n",
       "    },\n",
       "    \"vector_type\": \"dense\",\n",
       "    \"dimension\": 384,\n",
       "    \"deletion_protection\": \"disabled\",\n",
       "    \"tags\": null\n",
       "}"
      ]
     },
     "execution_count": 9,
     "metadata": {},
     "output_type": "execute_result"
    }
   ],
   "source": [
    "pc.create_index(name = \"medium-data\", \n",
    "                dimension=384, \n",
    "                metric=\"cosine\",\n",
    "                spec=ServerlessSpec(\n",
    "                    cloud=\"aws\",\n",
    "                    region=\"us-east-1\"\n",
    "                )) # remember to use only us-east-1 in free tier"
   ]
  },
  {
   "cell_type": "code",
   "execution_count": null,
   "id": "127f78c9",
   "metadata": {},
   "outputs": [],
   "source": [
    "# pinecone.create_index(name='medium-data', dimension=384, pod_type='s1', metric=\"cosine\" )"
   ]
  },
  {
   "cell_type": "code",
   "execution_count": 10,
   "id": "101ed255",
   "metadata": {},
   "outputs": [],
   "source": [
    "from sentence_transformers import SentenceTransformer\n",
    "import torch"
   ]
  },
  {
   "cell_type": "code",
   "execution_count": 12,
   "id": "b386c898",
   "metadata": {},
   "outputs": [],
   "source": [
    "model = SentenceTransformer('all-MiniLM-L6-v2', device='cpu') # cuda or cpu"
   ]
  },
  {
   "cell_type": "code",
   "execution_count": 13,
   "id": "a144c14a",
   "metadata": {},
   "outputs": [],
   "source": [
    "df['values'] = df['title_extended'].map(\n",
    "    lambda x: (model.encode(x)).tolist()) # python list, 6k rows 1 min"
   ]
  },
  {
   "cell_type": "code",
   "execution_count": 15,
   "id": "bbb1da69",
   "metadata": {},
   "outputs": [
    {
     "data": {
      "text/html": [
       "<div>\n",
       "<style scoped>\n",
       "    .dataframe tbody tr th:only-of-type {\n",
       "        vertical-align: middle;\n",
       "    }\n",
       "\n",
       "    .dataframe tbody tr th {\n",
       "        vertical-align: top;\n",
       "    }\n",
       "\n",
       "    .dataframe thead th {\n",
       "        text-align: right;\n",
       "    }\n",
       "</style>\n",
       "<table border=\"1\" class=\"dataframe\">\n",
       "  <thead>\n",
       "    <tr style=\"text-align: right;\">\n",
       "      <th></th>\n",
       "      <th>category</th>\n",
       "      <th>title</th>\n",
       "      <th>subtitle</th>\n",
       "      <th>subtitle_truncated_flag</th>\n",
       "      <th>title_extended</th>\n",
       "      <th>values</th>\n",
       "    </tr>\n",
       "  </thead>\n",
       "  <tbody>\n",
       "    <tr>\n",
       "      <th>0</th>\n",
       "      <td>work</td>\n",
       "      <td>\"21 Conversations\" - A fun (and easy) game for...</td>\n",
       "      <td>A (new?) Icebreaker game to get your team to s...</td>\n",
       "      <td>False</td>\n",
       "      <td>\"21 Conversations\" - A fun (and easy) game for...</td>\n",
       "      <td>[-0.03107442706823349, -0.014303440228104591, ...</td>\n",
       "    </tr>\n",
       "    <tr>\n",
       "      <th>1</th>\n",
       "      <td>spirituality</td>\n",
       "      <td>\"Biblical Porn\" at Mars Hill</td>\n",
       "      <td>Author and UW lecturer Jessica Johnson talks a...</td>\n",
       "      <td>False</td>\n",
       "      <td>\"Biblical Porn\" at Mars HillAuthor and UW lect...</td>\n",
       "      <td>[-0.034670304507017136, -0.018165184184908867,...</td>\n",
       "    </tr>\n",
       "  </tbody>\n",
       "</table>\n",
       "</div>"
      ],
      "text/plain": [
       "       category                                              title  \\\n",
       "0          work  \"21 Conversations\" - A fun (and easy) game for...   \n",
       "1  spirituality                       \"Biblical Porn\" at Mars Hill   \n",
       "\n",
       "                                            subtitle  subtitle_truncated_flag  \\\n",
       "0  A (new?) Icebreaker game to get your team to s...                    False   \n",
       "1  Author and UW lecturer Jessica Johnson talks a...                    False   \n",
       "\n",
       "                                      title_extended  \\\n",
       "0  \"21 Conversations\" - A fun (and easy) game for...   \n",
       "1  \"Biblical Porn\" at Mars HillAuthor and UW lect...   \n",
       "\n",
       "                                              values  \n",
       "0  [-0.03107442706823349, -0.014303440228104591, ...  \n",
       "1  [-0.034670304507017136, -0.018165184184908867,...  "
      ]
     },
     "execution_count": 15,
     "metadata": {},
     "output_type": "execute_result"
    }
   ],
   "source": [
    "df.head(2)"
   ]
  },
  {
   "cell_type": "code",
   "execution_count": 16,
   "id": "6b60a4bd",
   "metadata": {},
   "outputs": [],
   "source": [
    "df['id'] = df.reset_index(drop = 'index').index"
   ]
  },
  {
   "cell_type": "code",
   "execution_count": 17,
   "id": "e533098a",
   "metadata": {},
   "outputs": [
    {
     "data": {
      "text/html": [
       "<div>\n",
       "<style scoped>\n",
       "    .dataframe tbody tr th:only-of-type {\n",
       "        vertical-align: middle;\n",
       "    }\n",
       "\n",
       "    .dataframe tbody tr th {\n",
       "        vertical-align: top;\n",
       "    }\n",
       "\n",
       "    .dataframe thead th {\n",
       "        text-align: right;\n",
       "    }\n",
       "</style>\n",
       "<table border=\"1\" class=\"dataframe\">\n",
       "  <thead>\n",
       "    <tr style=\"text-align: right;\">\n",
       "      <th></th>\n",
       "      <th>category</th>\n",
       "      <th>title</th>\n",
       "      <th>subtitle</th>\n",
       "      <th>subtitle_truncated_flag</th>\n",
       "      <th>title_extended</th>\n",
       "      <th>values</th>\n",
       "      <th>id</th>\n",
       "    </tr>\n",
       "  </thead>\n",
       "  <tbody>\n",
       "    <tr>\n",
       "      <th>0</th>\n",
       "      <td>work</td>\n",
       "      <td>\"21 Conversations\" - A fun (and easy) game for...</td>\n",
       "      <td>A (new?) Icebreaker game to get your team to s...</td>\n",
       "      <td>False</td>\n",
       "      <td>\"21 Conversations\" - A fun (and easy) game for...</td>\n",
       "      <td>[-0.03107442706823349, -0.014303440228104591, ...</td>\n",
       "      <td>0</td>\n",
       "    </tr>\n",
       "    <tr>\n",
       "      <th>1</th>\n",
       "      <td>spirituality</td>\n",
       "      <td>\"Biblical Porn\" at Mars Hill</td>\n",
       "      <td>Author and UW lecturer Jessica Johnson talks a...</td>\n",
       "      <td>False</td>\n",
       "      <td>\"Biblical Porn\" at Mars HillAuthor and UW lect...</td>\n",
       "      <td>[-0.034670304507017136, -0.018165184184908867,...</td>\n",
       "      <td>1</td>\n",
       "    </tr>\n",
       "  </tbody>\n",
       "</table>\n",
       "</div>"
      ],
      "text/plain": [
       "       category                                              title  \\\n",
       "0          work  \"21 Conversations\" - A fun (and easy) game for...   \n",
       "1  spirituality                       \"Biblical Porn\" at Mars Hill   \n",
       "\n",
       "                                            subtitle  subtitle_truncated_flag  \\\n",
       "0  A (new?) Icebreaker game to get your team to s...                    False   \n",
       "1  Author and UW lecturer Jessica Johnson talks a...                    False   \n",
       "\n",
       "                                      title_extended  \\\n",
       "0  \"21 Conversations\" - A fun (and easy) game for...   \n",
       "1  \"Biblical Porn\" at Mars HillAuthor and UW lect...   \n",
       "\n",
       "                                              values  id  \n",
       "0  [-0.03107442706823349, -0.014303440228104591, ...   0  \n",
       "1  [-0.034670304507017136, -0.018165184184908867,...   1  "
      ]
     },
     "execution_count": 17,
     "metadata": {},
     "output_type": "execute_result"
    }
   ],
   "source": [
    "df.head(2)"
   ]
  },
  {
   "cell_type": "code",
   "execution_count": 21,
   "id": "a31cedb9",
   "metadata": {},
   "outputs": [],
   "source": [
    "df['metadata'] = df.apply(lambda x: {\n",
    "    'title' : x['title'],\n",
    "    'subtitle': x['subtitle'],\n",
    "    'category': x['category']\n",
    "    \n",
    "}, axis=1)"
   ]
  },
  {
   "cell_type": "code",
   "execution_count": 22,
   "id": "adb7569d",
   "metadata": {},
   "outputs": [
    {
     "data": {
      "text/html": [
       "<div>\n",
       "<style scoped>\n",
       "    .dataframe tbody tr th:only-of-type {\n",
       "        vertical-align: middle;\n",
       "    }\n",
       "\n",
       "    .dataframe tbody tr th {\n",
       "        vertical-align: top;\n",
       "    }\n",
       "\n",
       "    .dataframe thead th {\n",
       "        text-align: right;\n",
       "    }\n",
       "</style>\n",
       "<table border=\"1\" class=\"dataframe\">\n",
       "  <thead>\n",
       "    <tr style=\"text-align: right;\">\n",
       "      <th></th>\n",
       "      <th>category</th>\n",
       "      <th>title</th>\n",
       "      <th>subtitle</th>\n",
       "      <th>subtitle_truncated_flag</th>\n",
       "      <th>title_extended</th>\n",
       "      <th>values</th>\n",
       "      <th>id</th>\n",
       "      <th>metadata</th>\n",
       "    </tr>\n",
       "  </thead>\n",
       "  <tbody>\n",
       "    <tr>\n",
       "      <th>0</th>\n",
       "      <td>work</td>\n",
       "      <td>\"21 Conversations\" - A fun (and easy) game for...</td>\n",
       "      <td>A (new?) Icebreaker game to get your team to s...</td>\n",
       "      <td>False</td>\n",
       "      <td>\"21 Conversations\" - A fun (and easy) game for...</td>\n",
       "      <td>[-0.03107442706823349, -0.014303440228104591, ...</td>\n",
       "      <td>0</td>\n",
       "      <td>{'title': '\"21 Conversations\" - A fun (and eas...</td>\n",
       "    </tr>\n",
       "    <tr>\n",
       "      <th>1</th>\n",
       "      <td>spirituality</td>\n",
       "      <td>\"Biblical Porn\" at Mars Hill</td>\n",
       "      <td>Author and UW lecturer Jessica Johnson talks a...</td>\n",
       "      <td>False</td>\n",
       "      <td>\"Biblical Porn\" at Mars HillAuthor and UW lect...</td>\n",
       "      <td>[-0.034670304507017136, -0.018165184184908867,...</td>\n",
       "      <td>1</td>\n",
       "      <td>{'title': '\"Biblical Porn\" at Mars Hill', 'sub...</td>\n",
       "    </tr>\n",
       "  </tbody>\n",
       "</table>\n",
       "</div>"
      ],
      "text/plain": [
       "       category                                              title  \\\n",
       "0          work  \"21 Conversations\" - A fun (and easy) game for...   \n",
       "1  spirituality                       \"Biblical Porn\" at Mars Hill   \n",
       "\n",
       "                                            subtitle  subtitle_truncated_flag  \\\n",
       "0  A (new?) Icebreaker game to get your team to s...                    False   \n",
       "1  Author and UW lecturer Jessica Johnson talks a...                    False   \n",
       "\n",
       "                                      title_extended  \\\n",
       "0  \"21 Conversations\" - A fun (and easy) game for...   \n",
       "1  \"Biblical Porn\" at Mars HillAuthor and UW lect...   \n",
       "\n",
       "                                              values  id  \\\n",
       "0  [-0.03107442706823349, -0.014303440228104591, ...   0   \n",
       "1  [-0.034670304507017136, -0.018165184184908867,...   1   \n",
       "\n",
       "                                            metadata  \n",
       "0  {'title': '\"21 Conversations\" - A fun (and eas...  \n",
       "1  {'title': '\"Biblical Porn\" at Mars Hill', 'sub...  "
      ]
     },
     "execution_count": 22,
     "metadata": {},
     "output_type": "execute_result"
    }
   ],
   "source": [
    "df.head(2)"
   ]
  },
  {
   "cell_type": "code",
   "execution_count": 23,
   "id": "43a1f386",
   "metadata": {},
   "outputs": [],
   "source": [
    "df_upsert = df[['id', 'values', 'metadata']]"
   ]
  },
  {
   "cell_type": "code",
   "execution_count": 24,
   "id": "8622d74f",
   "metadata": {},
   "outputs": [
    {
     "name": "stderr",
     "output_type": "stream",
     "text": [
      "C:\\Users\\somashekar.inguva\\AppData\\Local\\Temp\\ipykernel_41424\\3006284790.py:1: SettingWithCopyWarning: \n",
      "A value is trying to be set on a copy of a slice from a DataFrame.\n",
      "Try using .loc[row_indexer,col_indexer] = value instead\n",
      "\n",
      "See the caveats in the documentation: https://pandas.pydata.org/pandas-docs/stable/user_guide/indexing.html#returning-a-view-versus-a-copy\n",
      "  df_upsert['id'] = df_upsert['id'].map(lambda x: str(x))\n"
     ]
    }
   ],
   "source": [
    "df_upsert['id'] = df_upsert['id'].map(lambda x: str(x))"
   ]
  },
  {
   "cell_type": "code",
   "execution_count": 25,
   "id": "a62084db",
   "metadata": {},
   "outputs": [],
   "source": [
    "index =pc.Index('medium-data')"
   ]
  },
  {
   "cell_type": "code",
   "execution_count": 26,
   "id": "0fbaced0",
   "metadata": {},
   "outputs": [
    {
     "data": {
      "application/vnd.jupyter.widget-view+json": {
       "model_id": "1cf309bc018840a2852b5e52ef26b764",
       "version_major": 2,
       "version_minor": 0
      },
      "text/plain": [
       "sending upsert requests:   0%|          | 0/6211 [00:00<?, ?it/s]"
      ]
     },
     "metadata": {},
     "output_type": "display_data"
    },
    {
     "data": {
      "text/plain": [
       "{'upserted_count': 6211}"
      ]
     },
     "execution_count": 26,
     "metadata": {},
     "output_type": "execute_result"
    }
   ],
   "source": [
    "index.upsert_from_dataframe(df_upsert) # 6k takes 1 min"
   ]
  },
  {
   "cell_type": "markdown",
   "id": "1cd3dc80",
   "metadata": {},
   "source": [
    "### Query"
   ]
  },
  {
   "cell_type": "code",
   "execution_count": 28,
   "id": "d63ad60a",
   "metadata": {},
   "outputs": [
    {
     "data": {
      "text/plain": [
       "{'matches': [{'id': '994',\n",
       "              'metadata': {'category': 'photography',\n",
       "                           'subtitle': 'If you are willing to look hard '\n",
       "                                       'enough, eventually you will see beauty '\n",
       "                                       'in the most difficult of places.',\n",
       "                           'title': '3 Places Where You Can Find Beauty'},\n",
       "              'score': 0.573478758,\n",
       "              'values': []},\n",
       "             {'id': '1931',\n",
       "              'metadata': {'category': 'travel',\n",
       "                           'subtitle': 'Pembrokeshire is as beautiful as the '\n",
       "                                       'Italian Coast.',\n",
       "                           'title': '6 Easy Reasons to Enjoy Exploring South '\n",
       "                                    'Wales'},\n",
       "              'score': 0.463663071,\n",
       "              'values': []},\n",
       "             {'id': '2778',\n",
       "              'metadata': {'category': 'accessibility',\n",
       "                           'subtitle': 'Complete parity with the sighted may '\n",
       "                                       'seem like an impossible goal, but '\n",
       "                                       'maybe the only thing holding us back '\n",
       "                                       'is a lack of imagination.',\n",
       "                           'title': 'A City That’s Better for the Blind Is '\n",
       "                                    'Better for Everyone'},\n",
       "              'score': 0.453146785,\n",
       "              'values': []},\n",
       "             {'id': '4053',\n",
       "              'metadata': {'category': 'politics',\n",
       "                           'subtitle': 'What does America stand for?',\n",
       "                           'title': 'A Shining City on a Hill'},\n",
       "              'score': 0.449374408,\n",
       "              'values': []},\n",
       "             {'id': '3620',\n",
       "              'metadata': {'category': 'sports',\n",
       "                           'subtitle': 'The World Cup gets advertising right',\n",
       "                           'title': 'A Most Beautiful Game'},\n",
       "              'score': 0.424559712,\n",
       "              'values': []},\n",
       "             {'id': '1956',\n",
       "              'metadata': {'category': 'travel',\n",
       "                           'subtitle': 'Combine your love for books and travel '\n",
       "                                       'with these 6 literary cities.',\n",
       "                           'title': '6 Literary Cities for Book Lovers To '\n",
       "                                    'Visit This Year'},\n",
       "              'score': 0.402953267,\n",
       "              'values': []},\n",
       "             {'id': '5248',\n",
       "              'metadata': {'category': 'ux',\n",
       "                           'subtitle': 'Discover the city you are visting like '\n",
       "                                       'a local',\n",
       "                           'title': 'Ace Hotel: A UX Case Study'},\n",
       "              'score': 0.402812839,\n",
       "              'values': []},\n",
       "             {'id': '4544',\n",
       "              'metadata': {'category': 'cities',\n",
       "                           'subtitle': 'Bangalore Chapter',\n",
       "                           'title': 'A city and its architecture'},\n",
       "              'score': 0.390518,\n",
       "              'values': []},\n",
       "             {'id': '5321',\n",
       "              'metadata': {'category': 'design',\n",
       "                           'subtitle': 'Choatic nature of order',\n",
       "                           'title': 'Adaptive urban design'},\n",
       "              'score': 0.385076016,\n",
       "              'values': []},\n",
       "             {'id': '5483',\n",
       "              'metadata': {'category': 'spirituality',\n",
       "                           'subtitle': 'Examining life through a lens of '\n",
       "                                       'beauty',\n",
       "                           'title': 'Aesthetics of Being'},\n",
       "              'score': 0.380734891,\n",
       "              'values': []}],\n",
       " 'namespace': '',\n",
       " 'usage': {'read_units': 6}}"
      ]
     },
     "execution_count": 28,
     "metadata": {},
     "output_type": "execute_result"
    }
   ],
   "source": [
    "index.query(vector=(model.encode(\"which city is the most beautiful\")).tolist(), # python list\n",
    "           top_k=10,\n",
    "           include_metadata=True)"
   ]
  },
  {
   "cell_type": "code",
   "execution_count": 27,
   "id": "3093b83b",
   "metadata": {},
   "outputs": [],
   "source": [
    "xc = index.query(vector=(model.encode(\"which city is the most beautiful\")).tolist(), # python list\n",
    "           top_k=10,\n",
    "           include_metadata=True) "
   ]
  },
  {
   "cell_type": "code",
   "execution_count": 29,
   "id": "4b65fd4e",
   "metadata": {},
   "outputs": [
    {
     "data": {
      "text/plain": [
       "pinecone.core.openapi.db_data.model.query_response.QueryResponse"
      ]
     },
     "execution_count": 29,
     "metadata": {},
     "output_type": "execute_result"
    }
   ],
   "source": [
    "type(xc)"
   ]
  },
  {
   "cell_type": "code",
   "execution_count": 30,
   "id": "f95b88ba",
   "metadata": {},
   "outputs": [
    {
     "name": "stdout",
     "output_type": "stream",
     "text": [
      "0.57: 3 Places Where You Can Find Beauty: photography \n",
      "0.46: 6 Easy Reasons to Enjoy Exploring South Wales: travel \n",
      "0.45: A City That’s Better for the Blind Is Better for Everyone: accessibility \n",
      "0.45: A Shining City on a Hill: politics \n",
      "0.42: A Most Beautiful Game: sports \n",
      "0.4: 6 Literary Cities for Book Lovers To Visit This Year: travel \n",
      "0.4: Ace Hotel: A UX Case Study: ux \n",
      "0.39: A city and its architecture: cities \n",
      "0.39: Adaptive urban design: design \n",
      "0.38: Aesthetics of Being: spirituality \n"
     ]
    }
   ],
   "source": [
    "for result in xc['matches']:\n",
    "    print(f\"{round(result['score'], 2)}: {result['metadata']['title']}: {result['metadata']['category']} \")"
   ]
  },
  {
   "cell_type": "code",
   "execution_count": 31,
   "id": "9c6b8ad9",
   "metadata": {},
   "outputs": [
    {
     "name": "stdout",
     "output_type": "stream",
     "text": [
      "0.57: If you are willing to look hard enough, eventually you will see beauty in the most difficult of places.: photography \n",
      "0.46: Pembrokeshire is as beautiful as the Italian Coast.: travel \n",
      "0.45: Complete parity with the sighted may seem like an impossible goal, but maybe the only thing holding us back is a lack of imagination.: accessibility \n",
      "0.45: What does America stand for?: politics \n",
      "0.42: The World Cup gets advertising right: sports \n",
      "0.4: Combine your love for books and travel with these 6 literary cities.: travel \n",
      "0.4: Discover the city you are visting like a local: ux \n",
      "0.39: Bangalore Chapter: cities \n",
      "0.39: Choatic nature of order: design \n",
      "0.38: Examining life through a lens of beauty: spirituality \n"
     ]
    }
   ],
   "source": [
    "for result in xc['matches']:\n",
    "    print(f\"{round(result['score'], 2)}: {result['metadata']['subtitle']}: {result['metadata']['category']} \")"
   ]
  },
  {
   "cell_type": "code",
   "execution_count": 39,
   "id": "a632c2ef",
   "metadata": {},
   "outputs": [],
   "source": [
    "res = index.query(vector=(model.encode(\"Talk about databricks\")).tolist(), # python list\n",
    "           top_k=10,\n",
    "           include_metadata=True)"
   ]
  },
  {
   "cell_type": "code",
   "execution_count": 40,
   "id": "cd074648",
   "metadata": {},
   "outputs": [
    {
     "name": "stdout",
     "output_type": "stream",
     "text": [
      "0.61: Data Scraping and Data Integration with pandas library from Python.: data-science \n",
      "0.58: What is Data Science?: data-science \n",
      "0.54: Don’t worry — getting started is the hardest part: artificial-intelligence \n",
      "0.53: Use this guide to help you complete your data science projects.: data-science \n",
      "0.5: Use Jupyter Notebooks for interactive Data Science Projects: data-science \n",
      "0.49: Contents: Basic plots, 3D plots and widgets: data-science \n",
      "0.48: Start your self-learning journey into the world of data right now.: productivity \n",
      "0.47: How to incorporate Data Science in your projects without costs, risks or pain: business \n",
      "0.47: Game of Thrones, game of wines, and other games: artificial-intelligence \n",
      "0.47: What is Data Visualization?: data-science \n"
     ]
    }
   ],
   "source": [
    "for result in res['matches']:\n",
    "    print(f\"{round(result['score'], 2)}: {result['metadata']['subtitle']}: {result['metadata']['category']} \")\n"
   ]
  },
  {
   "cell_type": "code",
   "execution_count": null,
   "id": "8d4afe4e",
   "metadata": {},
   "outputs": [],
   "source": []
  }
 ],
 "metadata": {
  "kernelspec": {
   "display_name": "venv_GenAI",
   "language": "python",
   "name": "python3"
  },
  "language_info": {
   "codemirror_mode": {
    "name": "ipython",
    "version": 3
   },
   "file_extension": ".py",
   "mimetype": "text/x-python",
   "name": "python",
   "nbconvert_exporter": "python",
   "pygments_lexer": "ipython3",
   "version": "3.11.0"
  }
 },
 "nbformat": 4,
 "nbformat_minor": 5
}
